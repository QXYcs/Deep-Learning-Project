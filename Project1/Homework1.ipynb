{
 "cells": [
  {
   "cell_type": "markdown",
   "metadata": {},
   "source": [
    "## 1. Framing the Problem "
   ]
  },
  {
   "cell_type": "code",
   "execution_count": 1,
   "metadata": {},
   "outputs": [
    {
     "name": "stderr",
     "output_type": "stream",
     "text": [
      "c:\\users\\asus\\appdata\\local\\programs\\python\\python36\\lib\\site-packages\\h5py\\__init__.py:36: FutureWarning: Conversion of the second argument of issubdtype from `float` to `np.floating` is deprecated. In future, it will be treated as `np.float64 == np.dtype(float).type`.\n",
      "  from ._conv import register_converters as _register_converters\n",
      "Using TensorFlow backend.\n"
     ]
    }
   ],
   "source": [
    "from __future__ import print_function               \n",
    "import keras \n",
    "from keras.models import Sequential                 \n",
    "from keras.layers import Dense, Activation          \n",
    "                                                    \n",
    "from keras.optimizers import SGD                    \n",
    "\n",
    "import pandas   \n",
    "import numpy as np\n",
    "import matplotlib.pyplot as plt\n",
    "from sklearn.model_selection import train_test_split"
   ]
  },
  {
   "cell_type": "markdown",
   "metadata": {},
   "source": [
    "## 2. Get the data"
   ]
  },
  {
   "cell_type": "code",
   "execution_count": 2,
   "metadata": {},
   "outputs": [],
   "source": [
    "dataset = pandas.read_csv(\"train.csv\") \n",
    "dataset = dataset.as_matrix() \n",
    "X,y = dataset[:,1:], dataset[:,0] "
   ]
  },
  {
   "cell_type": "markdown",
   "metadata": {},
   "source": [
    "## 3. Explore the data"
   ]
  },
  {
   "cell_type": "markdown",
   "metadata": {},
   "source": [
    "## 4. Prepare the data"
   ]
  },
  {
   "cell_type": "code",
   "execution_count": 3,
   "metadata": {},
   "outputs": [],
   "source": [
    "x_train, x_val, y_train, y_val = train_test_split(X, y, test_size=0.20)\n",
    "x_train = x_train/255.0                         \n",
    "x_val = x_val/255.0\n",
    "y_train = keras.utils.to_categorical(y_train, num_classes=10)\n",
    "y_val = keras.utils.to_categorical(y_val, num_classes=10)"
   ]
  },
  {
   "cell_type": "markdown",
   "metadata": {},
   "source": [
    "## 5.1 Create the model"
   ]
  },
  {
   "cell_type": "code",
   "execution_count": 4,
   "metadata": {},
   "outputs": [
    {
     "name": "stdout",
     "output_type": "stream",
     "text": [
      "_________________________________________________________________\n",
      "Layer (type)                 Output Shape              Param #   \n",
      "=================================================================\n",
      "dense_1 (Dense)              (None, 300)               235500    \n",
      "_________________________________________________________________\n",
      "dense_2 (Dense)              (None, 300)               90300     \n",
      "_________________________________________________________________\n",
      "dense_3 (Dense)              (None, 300)               90300     \n",
      "_________________________________________________________________\n",
      "dense_4 (Dense)              (None, 10)                3010      \n",
      "=================================================================\n",
      "Total params: 419,110\n",
      "Trainable params: 419,110\n",
      "Non-trainable params: 0\n",
      "_________________________________________________________________\n"
     ]
    }
   ],
   "source": [
    "# set parameters\n",
    "batch_size = 256\n",
    "epochs = 20\n",
    "learning_rate = 0.001\n",
    "\n",
    "# build the model\n",
    "model = Sequential()                                         \n",
    "model.add(Dense(300, activation='relu',input_dim=784))       \n",
    "model.add(Dense(300, activation='relu'))                     \n",
    "model.add(Dense(300, activation='relu')) \n",
    "model.add(Dense(10, activation='softmax'))                   \n",
    "model.summary()                                              \n",
    "\n",
    "##Using SGD as optimizer\n",
    "my_optimizer = keras.optimizers.RMSprop(lr=learning_rate)                   \n",
    "model.compile(optimizer=my_optimizer,                       \n",
    "              loss='categorical_crossentropy',              \n",
    "              metrics=['accuracy'])                         "
   ]
  },
  {
   "cell_type": "markdown",
   "metadata": {},
   "source": [
    "## 5.2 train the model"
   ]
  },
  {
   "cell_type": "code",
   "execution_count": 5,
   "metadata": {},
   "outputs": [
    {
     "name": "stdout",
     "output_type": "stream",
     "text": [
      "Train on 33600 samples, validate on 8400 samples\n",
      "Epoch 1/20\n",
      " - 3s - loss: 0.4198 - acc: 0.8721 - val_loss: 0.2907 - val_acc: 0.9073\n",
      "Epoch 2/20\n",
      " - 3s - loss: 0.1495 - acc: 0.9534 - val_loss: 0.2303 - val_acc: 0.9318\n",
      "Epoch 3/20\n",
      " - 3s - loss: 0.0913 - acc: 0.9713 - val_loss: 0.1897 - val_acc: 0.9393\n",
      "Epoch 4/20\n",
      " - 2s - loss: 0.0622 - acc: 0.9806 - val_loss: 0.1730 - val_acc: 0.9529\n",
      "Epoch 5/20\n",
      " - 2s - loss: 0.0454 - acc: 0.9855 - val_loss: 0.1251 - val_acc: 0.9660\n",
      "Epoch 6/20\n",
      " - 2s - loss: 0.0338 - acc: 0.9896 - val_loss: 0.1550 - val_acc: 0.9604\n",
      "Epoch 7/20\n",
      " - 2s - loss: 0.0273 - acc: 0.9916 - val_loss: 0.1114 - val_acc: 0.9740\n",
      "Epoch 8/20\n",
      " - 4s - loss: 0.0192 - acc: 0.9939 - val_loss: 0.2547 - val_acc: 0.9364\n",
      "Epoch 9/20\n",
      " - 3s - loss: 0.0166 - acc: 0.9949 - val_loss: 0.2775 - val_acc: 0.9454\n",
      "Epoch 10/20\n",
      " - 3s - loss: 0.0150 - acc: 0.9952 - val_loss: 0.1555 - val_acc: 0.9695\n",
      "Epoch 11/20\n",
      " - 3s - loss: 0.0104 - acc: 0.9967 - val_loss: 0.1390 - val_acc: 0.9732\n",
      "Epoch 12/20\n",
      " - 4s - loss: 0.0119 - acc: 0.9966 - val_loss: 0.1693 - val_acc: 0.9695\n"
     ]
    }
   ],
   "source": [
    "best_weights_filepath = './best_weights2.hdf5' \n",
    "                                            \n",
    "earlyStopping = keras.callbacks.EarlyStopping(monitor='val_acc',\n",
    "                                              patience = 5) \n",
    "\n",
    "SaveBestWeights = keras.callbacks.ModelCheckpoint(best_weights_filepath,\n",
    "                                                  monitor='val_acc',\n",
    "                                                  save_best_only=True)\n",
    "\n",
    "\n",
    "model_history = model.fit(x_train, y_train,                  \n",
    "                    batch_size=batch_size,                   \n",
    "                    epochs=epochs,                           \n",
    "                    verbose= 2,                             \n",
    "                    validation_data = (x_val, y_val),   \n",
    "                    callbacks = [earlyStopping, SaveBestWeights]\n",
    "                         )     \n",
    "model.load_weights(best_weights_filepath) "
   ]
  },
  {
   "cell_type": "markdown",
   "metadata": {},
   "source": [
    "## 6. Evaluate the model:Submission to Kaggle"
   ]
  },
  {
   "cell_type": "code",
   "execution_count": 6,
   "metadata": {},
   "outputs": [],
   "source": [
    "testset = pandas.read_csv(\"test.csv\")             \n",
    "testset = testset.as_matrix()                     \n",
    "testset = testset/255.0                             \n",
    "predictions = model.predict_classes(testset)           \n",
    "submission2 = pandas.DataFrame(data=predictions, index=np.arange(1,len(predictions)+1), columns=['Label']) \n",
    "submission2.index.name = 'ImageId' \n",
    "\n",
    "csv_text = submission2.to_csv() \n",
    "\n",
    "\n",
    "with open(\"submission2.csv\",'w') as csv_file:\n",
    "    csv_file.write(csv_text)"
   ]
  }
 ],
 "metadata": {
  "kernelspec": {
   "display_name": "Python 3",
   "language": "python",
   "name": "python3"
  },
  "language_info": {
   "codemirror_mode": {
    "name": "ipython",
    "version": 3
   },
   "file_extension": ".py",
   "mimetype": "text/x-python",
   "name": "python",
   "nbconvert_exporter": "python",
   "pygments_lexer": "ipython3",
   "version": "3.6.2"
  }
 },
 "nbformat": 4,
 "nbformat_minor": 2
}
