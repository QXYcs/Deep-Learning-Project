{
 "cells": [
  {
   "cell_type": "markdown",
   "metadata": {},
   "source": [
    "## 1. Frame the problem "
   ]
  },
  {
   "cell_type": "code",
   "execution_count": 1,
   "metadata": {},
   "outputs": [
    {
     "name": "stderr",
     "output_type": "stream",
     "text": [
      "c:\\users\\asus\\appdata\\local\\programs\\python\\python36\\lib\\site-packages\\h5py\\__init__.py:36: FutureWarning: Conversion of the second argument of issubdtype from `float` to `np.floating` is deprecated. In future, it will be treated as `np.float64 == np.dtype(float).type`.\n",
      "  from ._conv import register_converters as _register_converters\n",
      "Using TensorFlow backend.\n"
     ]
    }
   ],
   "source": [
    "from __future__ import print_function                  # Allows for python3 printing\n",
    "import keras\n",
    "from keras.datasets import cifar100                    # import function to load cifar100 dataset\n",
    "from keras.models import Model\n",
    "from keras.layers import Input, Dense, Activation, Flatten,Dropout\n",
    "from keras.layers.convolutional import Conv2D\n",
    "from keras.layers.pooling import MaxPooling2D\n",
    "from keras import optimizers\n",
    "from keras.layers.advanced_activations import LeakyReLU"
   ]
  },
  {
   "cell_type": "markdown",
   "metadata": {},
   "source": [
    "## 2. Get the data"
   ]
  },
  {
   "cell_type": "code",
   "execution_count": 2,
   "metadata": {},
   "outputs": [],
   "source": [
    "(x_train, y_train), (x_test, y_test) = cifar100.load_data(label_mode='fine')"
   ]
  },
  {
   "cell_type": "markdown",
   "metadata": {},
   "source": [
    "## 3. Explore the data"
   ]
  },
  {
   "cell_type": "markdown",
   "metadata": {},
   "source": [
    "## 4. Prepare the data"
   ]
  },
  {
   "cell_type": "code",
   "execution_count": 3,
   "metadata": {},
   "outputs": [],
   "source": [
    "x_train = x_train/255.0\n",
    "x_test = x_test/255.0\n",
    "y_train = keras.utils.to_categorical(y_train[:,0], num_classes=100)\n",
    "y_test = keras.utils.to_categorical(y_test[:,0], num_classes=100)"
   ]
  },
  {
   "cell_type": "markdown",
   "metadata": {},
   "source": [
    "## 5.1 Create the model"
   ]
  },
  {
   "cell_type": "code",
   "execution_count": 4,
   "metadata": {},
   "outputs": [],
   "source": [
    "def ConvNet(num_classes=100):\n",
    "\n",
    "    images = Input(shape=(32, 32, 3))           #use input shape that matches image size\n",
    "    \n",
    "    # Convolutional layers\n",
    "    x = Conv2D(filters=64, kernel_size=(4, 4), padding='valid')(images)  #conv layer1\n",
    "    LeakyReLU(alpha=0.3) #Using LeakyReLU as activation\n",
    "    x = Dropout(0.25)(x)                     #dropout layer1\n",
    "    x = Conv2D(filters=64, kernel_size=(3, 3), activation='relu')(images)  #conv layer2\n",
    "    x = Dropout(0.20)(x)                     #dropout layer2\n",
    "    \n",
    "    x = Conv2D(filters=64, kernel_size=(2, 2), activation='relu')(x)   #conv layer3\n",
    "    x = MaxPooling2D(pool_size=(2, 2))(x)  #pooling layer2\n",
    "    x = Dropout(0.5)(x)                     #dropout layer3\n",
    "\n",
    "    # Fully-connected layer: \n",
    "    x = Flatten()(x)          \n",
    "    x = Dense(200)(x)         \n",
    "    x = Dense(units=num_classes, activation='softmax')(x)\n",
    "\n",
    "    # Instantiate a model based on inputs/outputs\n",
    "    model = Model(inputs=images, outputs=x)\n",
    "\n",
    "    # Configure the model for training. \n",
    "    model.compile(\n",
    "            loss='categorical_crossentropy',\n",
    "            optimizer=optimizers.RMSprop(lr=0.001), #using RMSprop optimizer\n",
    "            metrics=[\n",
    "                'categorical_accuracy',\n",
    "                keras.metrics.top_k_categorical_accuracy])\n",
    "\n",
    "    return model"
   ]
  },
  {
   "cell_type": "markdown",
   "metadata": {},
   "source": [
    "## 5.2 train the model"
   ]
  },
  {
   "cell_type": "code",
   "execution_count": 5,
   "metadata": {},
   "outputs": [
    {
     "name": "stdout",
     "output_type": "stream",
     "text": [
      "Epoch 1/30\n",
      "50000/50000 [==============================] - 399s 8ms/step - loss: 3.5304 - categorical_accuracy: 0.1814 - top_k_categorical_accuracy: 0.4194\n",
      "Epoch 2/30\n",
      "50000/50000 [==============================] - ETA: 0s - loss: 2.8332 - categorical_accuracy: 0.3107 - top_k_categorical_accuracy: 0.603 - 404s 8ms/step - loss: 2.8332 - categorical_accuracy: 0.3107 - top_k_categorical_accuracy: 0.6039\n",
      "Epoch 3/30\n",
      "50000/50000 [==============================] - 403s 8ms/step - loss: 2.4986 - categorical_accuracy: 0.3774 - top_k_categorical_accuracy: 0.6748\n",
      "Epoch 4/30\n",
      "50000/50000 [==============================] - 402s 8ms/step - loss: 2.2701 - categorical_accuracy: 0.4240 - top_k_categorical_accuracy: 0.7238\n",
      "Epoch 5/30\n",
      "50000/50000 [==============================] - 387s 8ms/step - loss: 2.0895 - categorical_accuracy: 0.4615 - top_k_categorical_accuracy: 0.7586\n",
      "Epoch 6/30\n",
      "50000/50000 [==============================] - 412s 8ms/step - loss: 1.9437 - categorical_accuracy: 0.4925 - top_k_categorical_accuracy: 0.7868\n",
      "Epoch 7/30\n",
      "50000/50000 [==============================] - 398s 8ms/step - loss: 1.8257 - categorical_accuracy: 0.5206 - top_k_categorical_accuracy: 0.8079\n",
      "Epoch 8/30\n",
      "50000/50000 [==============================] - 390s 8ms/step - loss: 1.7097 - categorical_accuracy: 0.5462 - top_k_categorical_accuracy: 0.8293\n",
      "Epoch 9/30\n",
      "50000/50000 [==============================] - 372s 7ms/step - loss: 1.6305 - categorical_accuracy: 0.5629 - top_k_categorical_accuracy: 0.8419\n",
      "Epoch 10/30\n",
      "50000/50000 [==============================] - 363s 7ms/step - loss: 1.5514 - categorical_accuracy: 0.5813 - top_k_categorical_accuracy: 0.8542\n",
      "Epoch 11/30\n",
      "50000/50000 [==============================] - 361s 7ms/step - loss: 1.4755 - categorical_accuracy: 0.5961 - top_k_categorical_accuracy: 0.8696\n",
      "Epoch 12/30\n",
      "50000/50000 [==============================] - 2159s 43ms/step - loss: 1.4114 - categorical_accuracy: 0.6116 - top_k_categorical_accuracy: 0.8772\n",
      "Epoch 13/30\n",
      "50000/50000 [==============================] - 1080s 22ms/step - loss: 1.3654 - categorical_accuracy: 0.6219 - top_k_categorical_accuracy: 0.8860\n",
      "Epoch 14/30\n",
      "50000/50000 [==============================] - 364s 7ms/step - loss: 1.3122 - categorical_accuracy: 0.6335 - top_k_categorical_accuracy: 0.8941\n",
      "Epoch 15/30\n",
      "50000/50000 [==============================] - 366s 7ms/step - loss: 1.2754 - categorical_accuracy: 0.6430 - top_k_categorical_accuracy: 0.8991\n",
      "Epoch 16/30\n",
      "50000/50000 [==============================] - 356s 7ms/step - loss: 1.2376 - categorical_accuracy: 0.6516 - top_k_categorical_accuracy: 0.9063\n",
      "Epoch 17/30\n",
      "50000/50000 [==============================] - 351s 7ms/step - loss: 1.1900 - categorical_accuracy: 0.6664 - top_k_categorical_accuracy: 0.9114\n",
      "Epoch 18/30\n",
      "50000/50000 [==============================] - 365s 7ms/step - loss: 1.1685 - categorical_accuracy: 0.6683 - top_k_categorical_accuracy: 0.9157\n",
      "Epoch 19/30\n",
      "50000/50000 [==============================] - 390s 8ms/step - loss: 1.1339 - categorical_accuracy: 0.6797 - top_k_categorical_accuracy: 0.9195\n",
      "Epoch 20/30\n",
      "50000/50000 [==============================] - 379s 8ms/step - loss: 1.1121 - categorical_accuracy: 0.6811 - top_k_categorical_accuracy: 0.9238\n",
      "Epoch 21/30\n",
      "50000/50000 [==============================] - 361s 7ms/step - loss: 1.0838 - categorical_accuracy: 0.6888 - top_k_categorical_accuracy: 0.9273\n",
      "Epoch 22/30\n",
      "50000/50000 [==============================] - 362s 7ms/step - loss: 1.0627 - categorical_accuracy: 0.6947 - top_k_categorical_accuracy: 0.9308\n",
      "Epoch 23/30\n",
      "50000/50000 [==============================] - 6481s 130ms/step - loss: 1.0416 - categorical_accuracy: 0.6989 - top_k_categorical_accuracy: 0.9329\n",
      "Epoch 24/30\n",
      "50000/50000 [==============================] - 394s 8ms/step - loss: 1.0254 - categorical_accuracy: 0.7025 - top_k_categorical_accuracy: 0.9346\n",
      "Epoch 25/30\n",
      "50000/50000 [==============================] - 369s 7ms/step - loss: 1.0061 - categorical_accuracy: 0.7089 - top_k_categorical_accuracy: 0.9377\n",
      "Epoch 26/30\n",
      "50000/50000 [==============================] - 373s 7ms/step - loss: 0.9926 - categorical_accuracy: 0.7117 - top_k_categorical_accuracy: 0.9391\n",
      "Epoch 27/30\n",
      "50000/50000 [==============================] - 405s 8ms/step - loss: 0.9673 - categorical_accuracy: 0.7187 - top_k_categorical_accuracy: 0.9436\n",
      "Epoch 28/30\n",
      "50000/50000 [==============================] - 404s 8ms/step - loss: 0.9489 - categorical_accuracy: 0.7247 - top_k_categorical_accuracy: 0.9451\n",
      "Epoch 29/30\n",
      "50000/50000 [==============================] - 382s 8ms/step - loss: 0.9415 - categorical_accuracy: 0.7242 - top_k_categorical_accuracy: 0.9453\n",
      "Epoch 30/30\n",
      "50000/50000 [==============================] - 380s 8ms/step - loss: 0.9310 - categorical_accuracy: 0.7267 - top_k_categorical_accuracy: 0.9477\n"
     ]
    },
    {
     "data": {
      "text/plain": [
       "<keras.callbacks.History at 0x20b85698b38>"
      ]
     },
     "execution_count": 5,
     "metadata": {},
     "output_type": "execute_result"
    }
   ],
   "source": [
    "model = ConvNet()\n",
    "##Using early stop\n",
    "best_weights_filepath = './best_weights.hdf5' \n",
    "                                            \n",
    "earlyStopping = keras.callbacks.EarlyStopping(monitor='val_acc', \n",
    "                                              patience = 2) \n",
    "\n",
    "SaveBestWeights = keras.callbacks.ModelCheckpoint(best_weights_filepath,\n",
    "                                                  monitor='val_acc',\n",
    "                                                  save_best_only=True)\n",
    "model.fit(\n",
    "        x=x_train,\n",
    "        y=y_train,\n",
    "        epochs=30,\n",
    "        shuffle=True)\n"
   ]
  },
  {
   "cell_type": "markdown",
   "metadata": {},
   "source": [
    "## 6. Present your model"
   ]
  },
  {
   "cell_type": "code",
   "execution_count": 6,
   "metadata": {},
   "outputs": [
    {
     "name": "stdout",
     "output_type": "stream",
     "text": [
      "50000/50000 [==============================] - 84s 2ms/step\n",
      "10000/10000 [==============================] - 17s 2ms/step\n",
      "\n",
      "\n",
      "Training accuracy: 0.94114\n",
      "Testing accuracy: 0.3694\n"
     ]
    }
   ],
   "source": [
    "train_score = model.evaluate(x_train, y_train)      \n",
    "test_score = model.evaluate(x_test, y_test)          \n",
    "\n",
    "print ('\\n')                                              \n",
    "print('Training accuracy:', train_score[1])          \n",
    "print('Testing accuracy:', test_score[1])            "
   ]
  },
  {
   "cell_type": "code",
   "execution_count": null,
   "metadata": {},
   "outputs": [],
   "source": []
  }
 ],
 "metadata": {
  "kernelspec": {
   "display_name": "Python 3",
   "language": "python",
   "name": "python3"
  },
  "language_info": {
   "codemirror_mode": {
    "name": "ipython",
    "version": 3
   },
   "file_extension": ".py",
   "mimetype": "text/x-python",
   "name": "python",
   "nbconvert_exporter": "python",
   "pygments_lexer": "ipython3",
   "version": "3.6.2"
  }
 },
 "nbformat": 4,
 "nbformat_minor": 2
}
